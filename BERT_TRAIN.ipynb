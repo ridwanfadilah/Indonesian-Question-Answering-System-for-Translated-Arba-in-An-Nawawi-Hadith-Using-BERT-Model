{
  "cells": [
    {
      "cell_type": "code",
      "execution_count": null,
      "metadata": {
        "colab": {
          "base_uri": "https://localhost:8080/"
        },
        "id": "um38I7V6xgOE",
        "outputId": "1d006ba3-3369-40b5-af69-d9a7ef82af0f"
      },
      "outputs": [
        {
          "output_type": "stream",
          "name": "stdout",
          "text": [
            "Looking in indexes: https://pypi.org/simple, https://us-python.pkg.dev/colab-wheels/public/simple/\n",
            "Requirement already satisfied: transformers in /usr/local/lib/python3.8/dist-packages (4.25.1)\n",
            "Requirement already satisfied: requests in /usr/local/lib/python3.8/dist-packages (from transformers) (2.23.0)\n",
            "Requirement already satisfied: huggingface-hub<1.0,>=0.10.0 in /usr/local/lib/python3.8/dist-packages (from transformers) (0.11.1)\n",
            "Requirement already satisfied: packaging>=20.0 in /usr/local/lib/python3.8/dist-packages (from transformers) (21.3)\n",
            "Requirement already satisfied: numpy>=1.17 in /usr/local/lib/python3.8/dist-packages (from transformers) (1.21.6)\n",
            "Requirement already satisfied: regex!=2019.12.17 in /usr/local/lib/python3.8/dist-packages (from transformers) (2022.6.2)\n",
            "Requirement already satisfied: tqdm>=4.27 in /usr/local/lib/python3.8/dist-packages (from transformers) (4.64.1)\n",
            "Requirement already satisfied: filelock in /usr/local/lib/python3.8/dist-packages (from transformers) (3.8.2)\n",
            "Requirement already satisfied: pyyaml>=5.1 in /usr/local/lib/python3.8/dist-packages (from transformers) (6.0)\n",
            "Requirement already satisfied: tokenizers!=0.11.3,<0.14,>=0.11.1 in /usr/local/lib/python3.8/dist-packages (from transformers) (0.13.2)\n",
            "Requirement already satisfied: typing-extensions>=3.7.4.3 in /usr/local/lib/python3.8/dist-packages (from huggingface-hub<1.0,>=0.10.0->transformers) (4.4.0)\n",
            "Requirement already satisfied: pyparsing!=3.0.5,>=2.0.2 in /usr/local/lib/python3.8/dist-packages (from packaging>=20.0->transformers) (3.0.9)\n",
            "Requirement already satisfied: idna<3,>=2.5 in /usr/local/lib/python3.8/dist-packages (from requests->transformers) (2.10)\n",
            "Requirement already satisfied: chardet<4,>=3.0.2 in /usr/local/lib/python3.8/dist-packages (from requests->transformers) (3.0.4)\n",
            "Requirement already satisfied: certifi>=2017.4.17 in /usr/local/lib/python3.8/dist-packages (from requests->transformers) (2022.12.7)\n",
            "Requirement already satisfied: urllib3!=1.25.0,!=1.25.1,<1.26,>=1.21.1 in /usr/local/lib/python3.8/dist-packages (from requests->transformers) (1.24.3)\n"
          ]
        }
      ],
      "source": [
        "!pip install transformers"
      ]
    },
    {
      "cell_type": "code",
      "execution_count": null,
      "metadata": {
        "id": "NHSOiX1ixchH"
      },
      "outputs": [],
      "source": [
        "import json\n",
        "from pathlib import Path\n",
        "import torch\n",
        "from torch.utils.data import DataLoader\n",
        "import time"
      ]
    },
    {
      "cell_type": "markdown",
      "metadata": {
        "id": "gHBrIPCR4oyX"
      },
      "source": [
        "2. Mengambil Dataset"
      ]
    },
    {
      "cell_type": "code",
      "execution_count": null,
      "metadata": {
        "id": "DUznqlGj4bm3"
      },
      "outputs": [],
      "source": [
        "#Memasukkan path data train\n",
        "path = Path('/content/drive/MyDrive/Colab Notebooks/BERT/Dataset Terjemah Arbain An-Nawawi (v.3)/[8] Train_Panjang_v.3.json')\n",
        "\n",
        "#Membuka file .json\n",
        "with open(path, 'rb') as f:\n",
        "    squad_dict = json.load(f)\n",
        "\n",
        "texts = []\n",
        "queries = []\n",
        "answers = []\n",
        "\n",
        "#Pencocokan konteks, pertanyaan, dan jawaban\n",
        "for group in squad_dict['data']:\n",
        "    for passage in group['paragraphs']:\n",
        "        context = passage['context']\n",
        "        for qa in passage['qas']:\n",
        "            question = qa['question']\n",
        "            for answer in qa['answers']:\n",
        "#Menyimpan konteks, pertanyaan, dan jawaban ke dalam list\n",
        "                texts.append(context)\n",
        "                queries.append(question)\n",
        "                answers.append(answer)\n",
        "\n",
        "train_texts, train_queries, train_answers = texts, queries, answers"
      ]
    },
    {
      "cell_type": "code",
      "execution_count": null,
      "metadata": {
        "id": "vP5Y5O2p5Mfv"
      },
      "outputs": [],
      "source": [
        "#Memasukkan path data validation\n",
        "path = Path('/content/drive/MyDrive/Colab Notebooks/BERT/Dataset Terjemah Arbain An-Nawawi (v.3)/[8] Val_Panjang_v.3.json')\n",
        "\n",
        "#Membuka file .json\n",
        "with open(path, 'rb') as f:\n",
        "    squad_dict = json.load(f)\n",
        "\n",
        "texts = []\n",
        "queries = []\n",
        "answers = []\n",
        "\n",
        "#Pencocokan konteks, pertanyaan, dan jawaban\n",
        "for group in squad_dict['data']:\n",
        "    for passage in group['paragraphs']:\n",
        "        context = passage['context']\n",
        "        for qa in passage['qas']:\n",
        "            question = qa['question']\n",
        "            for answer in qa['answers']:\n",
        "#Menyimpan konteks, pertanyaan, dan jawaban ke dalam list\n",
        "                texts.append(context)\n",
        "                queries.append(question)\n",
        "                answers.append(answer)\n",
        "\n",
        "val_texts, val_queries, val_answers = texts, queries, answers"
      ]
    },
    {
      "cell_type": "markdown",
      "metadata": {
        "id": "7IUxjjnp5Tqk"
      },
      "source": [
        "3. Cek Data"
      ]
    },
    {
      "cell_type": "code",
      "execution_count": null,
      "metadata": {
        "colab": {
          "base_uri": "https://localhost:8080/"
        },
        "id": "plHtI3J55b98",
        "outputId": "88e57d95-1f52-4fab-cf87-2699418c55ee"
      },
      "outputs": [
        {
          "output_type": "stream",
          "name": "stdout",
          "text": [
            "112\n",
            "112\n",
            "112\n"
          ]
        }
      ],
      "source": [
        "#Jumlah Data Train\n",
        "print(len(train_texts))\n",
        "print(len(train_queries))\n",
        "print(len(train_answers))"
      ]
    },
    {
      "cell_type": "code",
      "execution_count": null,
      "metadata": {
        "colab": {
          "base_uri": "https://localhost:8080/"
        },
        "id": "NsR-QS0aZ8t_",
        "outputId": "be86784c-9312-4c12-ee16-ca1d09825ac1"
      },
      "outputs": [
        {
          "output_type": "stream",
          "name": "stdout",
          "text": [
            "Konteks:  dari umar radhiyallahu 'anhu juga berkata, 'ketika kami duduk-duduk di sisi rasulullah shallallahu 'alaihi wa sallam suatu hari tiba-tiba datanglah seorang laki-laki yang mengenakan baju yang sangat putih dan berambut sangat hitam, tidak tampak padanya bekas-bekas perjalanan jauh dan tidak ada seorangpun di antara kami yang mengenalnya. hingga kemudian dia duduk di hadapan nabi lalu menempelkan kedua lututnya kepada lutut beliau seraya berkata, 'wahai muhammad, beritahukan kepadaku tentang islam?' rasulullah shallallahu 'alaihi wa sallam menjawab, 'islam adalah engkau bersaksi bahwa tidak ada ilah yang berhak diibadahi selain allah, dan bahwa muhammad adalah utusan allah, engkau mendirikan shalat, menunaikan zakat, berpuasa di bulan ramadhan, dan pergi haji jika mampu'. kemudian orang itu berkata, 'engkau benar'. kami semua merasa heran kepadanya, dia yang menanyakan tetapi dia pula yang membenarkannya. kemudian dia bertanya lagi, 'beritahukan kepadaku tentang iman?' rasulullah shallallahu 'alaihi wa sallam menjawab, 'engkau beriman kepada allah, malaikat-malaikat-nya, kitab-kitab-nya, rasul-rasul-nya, hari akhir, dan engkau beriman kepada takdir yang baik maupun yang buruk'. lagi-lagi orang itu berkata, 'engkau benar'. selanjutnya dia berkata lagi, 'beritahukan kepadaku tentang ihsan?' rasulullah bersabda, 'ihsan adalah engkau beribadah kepada allah seakan-akan engkau melihatnya, jika engkau tidak melihatnya maka dia melihatmu'. kemudian orang itu berkata, 'beritahukan aku tentang hari kiamat (kapan terjadinya)?' beliau bersabda, 'yang ditanya tidak lebih tau dari yang bertanya'. orang itu bertanya lagi 'beritahukan kepadaku tanda-tandanya?' beliau menjawab, 'jika seorang hamba melahirkan tuannya, jika engkau melihat orang-orang tidak beralas kaki dan tidak berpakaian, miskin, dan penggembala domba namun mereka berlomba-lomba meninggikan bangunannya'. kemudian orang itu pergi dan aku terdiam sebentar. kemudian rasulullah shallallahu 'alaihi wa sallam bertanya, 'wahai umar, tahukah kamu siapa yang bertanya tadi?' aku berkata, 'allah dan rasul-nya lebih mengetahui'. beliau bersabda, 'dia adalah jibril yang datang kepada kalian untuk mengajarkan agama kepada kalian'. (hr. muslim) \n",
            "Pertanyaan:  apa itu iman?\n",
            "Jawaban:  {'answer_start': 1034, 'text': 'engkau beriman kepada allah, malaikat-malaikat-nya, kitab-kitab-nya, rasul-rasul-nya, hari akhir, dan engkau beriman kepada takdir yang baik maupun yang buruk'}\n"
          ]
        }
      ],
      "source": [
        "a = 1\n",
        "\n",
        "print(\"Konteks: \",train_texts[a])\n",
        "print(\"Pertanyaan: \",train_queries[a])\n",
        "print(\"Jawaban: \",train_answers[a])\n",
        "\n",
        "#ket:\n",
        "#1. huruf besar dan kecil mempengaruhi nilai answer_start\n",
        "#2. jawaban harus mengutip isi dari konteks\n",
        "#3. tidak boleh menghilangkan imbuhan\n",
        "#4. tidak boleh menambahkan satu kata ataupun simbol\n",
        "#5. tidak boleh menggunakan tanda kutip dua (\" \")\n",
        "#6. kelebihan atau kekurangan spasi akan mempengaruhi nilai answer_start"
      ]
    },
    {
      "cell_type": "code",
      "execution_count": null,
      "metadata": {
        "colab": {
          "base_uri": "https://localhost:8080/"
        },
        "id": "ec8caOYE5kcV",
        "outputId": "81408fe9-a504-4191-a390-09d7dc7a8d2e"
      },
      "outputs": [
        {
          "output_type": "stream",
          "name": "stdout",
          "text": [
            "48\n",
            "48\n",
            "48\n"
          ]
        }
      ],
      "source": [
        "#Jumlah Data Validation\n",
        "print(len(val_texts))\n",
        "print(len(val_queries))\n",
        "print(len(val_answers))"
      ]
    },
    {
      "cell_type": "code",
      "execution_count": null,
      "metadata": {
        "colab": {
          "base_uri": "https://localhost:8080/"
        },
        "id": "WJ68XqlMakiT",
        "outputId": "1d86eee0-f494-4f7a-af2f-02cf5e643760"
      },
      "outputs": [
        {
          "output_type": "stream",
          "name": "stdout",
          "text": [
            "Konteks:  dari umar radhiyallahu 'anhu juga berkata, 'ketika kami duduk-duduk di sisi rasulullah shallallahu 'alaihi wa sallam suatu hari tiba-tiba datanglah seorang laki-laki yang mengenakan baju yang sangat putih dan berambut sangat hitam, tidak tampak padanya bekas-bekas perjalanan jauh dan tidak ada seorangpun di antara kami yang mengenalnya. hingga kemudian dia duduk di hadapan nabi lalu menempelkan kedua lututnya kepada lutut beliau seraya berkata, 'wahai muhammad, beritahukan kepadaku tentang islam?' rasulullah shallallahu 'alaihi wa sallam menjawab, 'islam adalah engkau bersaksi bahwa tidak ada ilah yang berhak diibadahi selain allah, dan bahwa muhammad adalah utusan allah, engkau mendirikan shalat, menunaikan zakat, berpuasa di bulan ramadhan, dan pergi haji jika mampu'. kemudian orang itu berkata, 'engkau benar'. kami semua merasa heran kepadanya, dia yang menanyakan tetapi dia pula yang membenarkannya. kemudian dia bertanya lagi, 'beritahukan kepadaku tentang iman?' rasulullah shallallahu 'alaihi wa sallam menjawab, 'engkau beriman kepada allah, malaikat-malaikat-nya, kitab-kitab-nya, rasul-rasul-nya, hari akhir, dan engkau beriman kepada takdir yang baik maupun yang buruk'. lagi-lagi orang itu berkata, 'engkau benar'. selanjutnya dia berkata lagi, 'beritahukan kepadaku tentang ihsan?' rasulullah bersabda, 'ihsan adalah engkau beribadah kepada allah seakan-akan engkau melihatnya, jika engkau tidak melihatnya maka dia melihatmu'. kemudian orang itu berkata, 'beritahukan aku tentang hari kiamat (kapan terjadinya)?' beliau bersabda, 'yang ditanya tidak lebih tau dari yang bertanya'. orang itu bertanya lagi 'beritahukan kepadaku tanda-tandanya?' beliau menjawab, 'jika seorang hamba melahirkan tuannya, jika engkau melihat orang-orang tidak beralas kaki dan tidak berpakaian, miskin, dan penggembala domba namun mereka berlomba-lomba meninggikan bangunannya'. kemudian orang itu pergi dan aku terdiam sebentar. kemudian rasulullah shallallahu 'alaihi wa sallam bertanya, 'wahai umar, tahukah kamu siapa yang bertanya tadi?' aku berkata, 'allah dan rasul-nya lebih mengetahui'. beliau bersabda, 'dia adalah jibril yang datang kepada kalian untuk mengajarkan agama kepada kalian'. (hr. muslim) \n",
            "Pertanyaan:  apa jawaban rasulullah saat ditanya kapan terjadinya hari kiamat?\n",
            "Jawaban:  {'answer_start': 1558, 'text': 'yang ditanya tidak lebih tau dari yang bertanya'}\n"
          ]
        }
      ],
      "source": [
        "b = 2\n",
        "\n",
        "print(\"Konteks: \",val_texts[b])\n",
        "print(\"Pertanyaan: \",val_queries[b])\n",
        "print(\"Jawaban: \",val_answers[b])"
      ]
    },
    {
      "cell_type": "markdown",
      "metadata": {
        "id": "krRwFLj-6ILA"
      },
      "source": [
        "4. Penentuan end index"
      ]
    },
    {
      "cell_type": "code",
      "execution_count": null,
      "metadata": {
        "id": "6Ffb3MRI6NQZ"
      },
      "outputs": [],
      "source": [
        "for answer, text in zip(train_answers, train_texts):\n",
        "    real_answer = answer['text']\n",
        "    start_idx = answer['answer_start']\n",
        "    #Nilai end index sebenarnya\n",
        "    end_idx = start_idx + len(real_answer)\n",
        "\n",
        "    #Ketika real answer sesuai\n",
        "    if text[start_idx:end_idx] == real_answer:\n",
        "        answer['answer_end'] = end_idx\n",
        "    #Ketika real answer lebih dari 1 karakter\n",
        "    elif text[start_idx-1:end_idx-1] == real_answer:\n",
        "        answer['answer_start'] = start_idx - 1\n",
        "        answer['answer_end'] = end_idx - 1\n",
        "    #Ketika real answer lebih dari 2 karakter\n",
        "    elif text[start_idx-2:end_idx-2] == real_answer:\n",
        "        answer['answer_start'] = start_idx - 2\n",
        "        answer['answer_end'] = end_idx - 2"
      ]
    },
    {
      "cell_type": "code",
      "execution_count": null,
      "metadata": {
        "id": "LLgAVbB06UuB"
      },
      "outputs": [],
      "source": [
        "for answer, text in zip(val_answers, val_texts):\n",
        "    real_answer = answer['text']\n",
        "    start_idx = answer['answer_start']\n",
        "    #Nilai end index sebenarnya\n",
        "    end_idx = start_idx + len(real_answer)\n",
        "\n",
        "    #Ketika real answer sesuai\n",
        "    if text[start_idx:end_idx] == real_answer:\n",
        "        answer['answer_end'] = end_idx\n",
        "    #Ketika real answer lebih dari 1 karakter\n",
        "    elif text[start_idx-1:end_idx-1] == real_answer:\n",
        "        answer['answer_start'] = start_idx - 1\n",
        "        answer['answer_end'] = end_idx - 1\n",
        "    #Ketika real answer lebih dari 2 karakter\n",
        "    elif text[start_idx-2:end_idx-2] == real_answer:\n",
        "        answer['answer_start'] = start_idx - 2\n",
        "        answer['answer_end'] = end_idx - 2"
      ]
    },
    {
      "cell_type": "markdown",
      "metadata": {
        "id": "7GsGka5Q6eue"
      },
      "source": [
        "5. Tokenisasi Passages dan Queries"
      ]
    },
    {
      "cell_type": "code",
      "execution_count": null,
      "metadata": {
        "colab": {
          "base_uri": "https://localhost:8080/"
        },
        "id": "M_Y66Zt46dZZ",
        "outputId": "771aaf3a-7aac-4e17-889f-fee5dc4a9f42"
      },
      "outputs": [
        {
          "output_type": "stream",
          "name": "stderr",
          "text": [
            "Asking to truncate to max_length but no maximum length is provided and the model has no predefined maximum length. Default to no truncation.\n"
          ]
        }
      ],
      "source": [
        "from transformers import AutoTokenizer,AdamW,BertForQuestionAnswering\n",
        "tokenizer = AutoTokenizer.from_pretrained(\"Rifky/Indobert-QA\")\n",
        "\n",
        "train_encodings = tokenizer(train_texts, train_queries, truncation=True, padding=True)\n",
        "val_encodings = tokenizer(val_texts, val_queries, truncation=True, padding=True)"
      ]
    },
    {
      "cell_type": "markdown",
      "metadata": {
        "id": "Nj_nA6yS7qI0"
      },
      "source": [
        "6. Convert The Start-End Positions to Tokens Start-End Positions"
      ]
    },
    {
      "cell_type": "code",
      "execution_count": null,
      "metadata": {
        "colab": {
          "base_uri": "https://localhost:8080/"
        },
        "id": "enFSBz_p7lez",
        "outputId": "2f434532-94fa-4549-f3c8-a2825958b696"
      },
      "outputs": [
        {
          "output_type": "stream",
          "name": "stdout",
          "text": [
            "0\n",
            "0\n"
          ]
        }
      ],
      "source": [
        "def add_token_positions(encodings, answers):\n",
        "  start_positions = []\n",
        "  end_positions = []\n",
        "\n",
        "  count = 0\n",
        "\n",
        "  for i in range(len(answers)):\n",
        "    start_positions.append(encodings.char_to_token(i, answers[i]['answer_start']))\n",
        "    end_positions.append(encodings.char_to_token(i, answers[i]['answer_end']))\n",
        "\n",
        "    # if start position is None, the answer passage has been truncated\n",
        "    if start_positions[-1] is None:\n",
        "      start_positions[-1] = tokenizer.model_max_length\n",
        "\n",
        "    # if end position is None, the 'char_to_token' function points to the space after the correct token, so add - 1\n",
        "    if end_positions[-1] is None:\n",
        "      end_positions[-1] = encodings.char_to_token(i, answers[i]['answer_end'] - 1)\n",
        "      # if end position is still None the answer passage has been truncated\n",
        "      if end_positions[-1] is None:\n",
        "        count += 1\n",
        "        end_positions[-1] = tokenizer.model_max_length\n",
        "\n",
        "  print(count)\n",
        "\n",
        "  #Update data\n",
        "  encodings.update({'start_positions': start_positions, 'end_positions': end_positions})\n",
        "\n",
        "add_token_positions(train_encodings, train_answers)\n",
        "add_token_positions(val_encodings, val_answers)"
      ]
    },
    {
      "cell_type": "markdown",
      "metadata": {
        "id": "3TVnd8IT84hv"
      },
      "source": [
        "7. Membuat Kelas Dataset"
      ]
    },
    {
      "cell_type": "code",
      "execution_count": null,
      "metadata": {
        "id": "9s1GJeVV79j-"
      },
      "outputs": [],
      "source": [
        "class SquadDataset(torch.utils.data.Dataset):\n",
        "    def __init__(self, encodings):\n",
        "        self.encodings = encodings\n",
        "\n",
        "    def __getitem__(self, idx):\n",
        "        return {key: torch.tensor(val[idx]) for key, val in self.encodings.items()}\n",
        "\n",
        "    def __len__(self):\n",
        "        return len(self.encodings.input_ids)"
      ]
    },
    {
      "cell_type": "code",
      "execution_count": null,
      "metadata": {
        "id": "WqQ9PZPm9CLL"
      },
      "outputs": [],
      "source": [
        "train_dataset = SquadDataset(train_encodings)\n",
        "val_dataset = SquadDataset(val_encodings)"
      ]
    },
    {
      "cell_type": "code",
      "execution_count": null,
      "metadata": {
        "id": "yJp9RnoI9ODO"
      },
      "outputs": [],
      "source": [
        "#Menggunakan Dataloader\n",
        "train_loader = DataLoader(train_dataset, batch_size=8, shuffle=True)\n",
        "val_loader = DataLoader(val_dataset, batch_size=8, shuffle=True)"
      ]
    },
    {
      "cell_type": "code",
      "execution_count": null,
      "metadata": {
        "colab": {
          "base_uri": "https://localhost:8080/"
        },
        "id": "6mrAW6ZQ9Uph",
        "outputId": "8aa97ffc-7880-429b-921d-5fad94575405"
      },
      "outputs": [
        {
          "output_type": "stream",
          "name": "stdout",
          "text": [
            "Working on: cpu\n"
          ]
        }
      ],
      "source": [
        "#Menggunakan GPU\n",
        "device = torch.device('cuda:0' if torch.cuda.is_available() else 'cpu')\n",
        "print('Working on:', device)"
      ]
    },
    {
      "cell_type": "markdown",
      "metadata": {
        "id": "PVtpUnRq9abF"
      },
      "source": [
        "8. Membangun Model"
      ]
    },
    {
      "cell_type": "code",
      "execution_count": null,
      "metadata": {
        "colab": {
          "base_uri": "https://localhost:8080/"
        },
        "id": "j824mcGi9d30",
        "outputId": "7968390f-8966-4bd6-8db5-ce9afd3ff67a"
      },
      "outputs": [
        {
          "output_type": "stream",
          "name": "stderr",
          "text": [
            "/usr/local/lib/python3.8/dist-packages/transformers/optimization.py:306: FutureWarning: This implementation of AdamW is deprecated and will be removed in a future version. Use the PyTorch implementation torch.optim.AdamW instead, or set `no_deprecation_warning=True` to disable this warning\n",
            "  warnings.warn(\n"
          ]
        }
      ],
      "source": [
        "model = BertForQuestionAnswering.from_pretrained(\"Rifky/Indobert-QA\").to(device)\n",
        "\n",
        "#optim = AdamW(model.parameters(), lr=5e-5)\n",
        "#optim = AdamW(model.parameters(), lr=4e-5)\n",
        "#optim = AdamW(model.parameters(), lr=3e-5)\n",
        "#optim = AdamW(model.parameters(), lr=2e-5)\n",
        "optim = AdamW(model.parameters(), lr=1e-5)\n",
        "\n",
        "epochs = 5"
      ]
    },
    {
      "cell_type": "markdown",
      "metadata": {
        "id": "Hxneaf37eJ_7"
      },
      "source": [
        "9. Train and Evaluate Model"
      ]
    },
    {
      "cell_type": "code",
      "execution_count": null,
      "metadata": {
        "colab": {
          "base_uri": "https://localhost:8080/"
        },
        "id": "1aXSCCkqehIV",
        "outputId": "a9cdf20b-529c-4c00-dc20-e38c0cf0aa50"
      },
      "outputs": [
        {
          "output_type": "stream",
          "name": "stdout",
          "text": [
            "############Train############\n",
            "Batch 10 / 14 \n",
            "Loss: 3.2 \n",
            "\n",
            "############Evaluate############\n",
            "\n",
            "-------Epoch  1 -------\n",
            "Training Loss: 3.8602664981569563 \n",
            "Validation Loss: 2.678164084752401 \n",
            "Time:  665.9868519306183 \n",
            "----------------------- \n",
            "\n",
            "\n",
            "############Train############\n",
            "Batch 10 / 14 \n",
            "Loss: 1.5 \n",
            "\n",
            "############Evaluate############\n",
            "\n",
            "-------Epoch  2 -------\n",
            "Training Loss: 1.9721223286220007 \n",
            "Validation Loss: 2.112583875656128 \n",
            "Time:  653.9515347480774 \n",
            "----------------------- \n",
            "\n",
            "\n",
            "############Train############\n",
            "Batch 10 / 14 \n",
            "Loss: 0.7 \n",
            "\n",
            "############Evaluate############\n",
            "\n",
            "-------Epoch  3 -------\n",
            "Training Loss: 1.229507246187755 \n",
            "Validation Loss: 1.8857176701227825 \n",
            "Time:  666.8462088108063 \n",
            "----------------------- \n",
            "\n",
            "\n",
            "############Train############\n",
            "Batch 10 / 14 \n",
            "Loss: 0.6 \n",
            "\n",
            "############Evaluate############\n",
            "\n",
            "-------Epoch  4 -------\n",
            "Training Loss: 0.8368600308895111 \n",
            "Validation Loss: 2.1300892432530723 \n",
            "Time:  666.2719483375549 \n",
            "----------------------- \n",
            "\n",
            "\n",
            "############Train############\n",
            "Batch 10 / 14 \n",
            "Loss: 0.9 \n",
            "\n",
            "############Evaluate############\n",
            "\n",
            "-------Epoch  5 -------\n",
            "Training Loss: 0.7351803758314678 \n",
            "Validation Loss: 2.1448563933372498 \n",
            "Time:  660.863950252533 \n",
            "----------------------- \n",
            "\n",
            "\n",
            "Total training and evaluation time:  3313.936851501465\n"
          ]
        }
      ],
      "source": [
        "whole_train_eval_time = time.time()\n",
        "\n",
        "train_losses = []\n",
        "val_losses = []\n",
        "\n",
        "print_every = 10\n",
        "\n",
        "for epoch in range(epochs):\n",
        "  epoch_time = time.time()\n",
        "\n",
        "  #train mode\n",
        "  model.train()\n",
        "\n",
        "  loss_of_epoch = 0\n",
        "\n",
        "  print(\"############Train############\")\n",
        "\n",
        "  for batch_idx,batch in enumerate(train_loader):\n",
        "\n",
        "    optim.zero_grad()\n",
        "\n",
        "    input_ids = batch['input_ids'].to(device)\n",
        "    attention_mask = batch['attention_mask'].to(device)\n",
        "    start_positions = batch['start_positions'].to(device)\n",
        "    end_positions = batch['end_positions'].to(device)\n",
        "\n",
        "    outputs = model(input_ids, attention_mask=attention_mask, start_positions=start_positions, end_positions=end_positions)\n",
        "    loss = outputs[0]\n",
        "    #backwards pass\n",
        "    loss.backward()\n",
        "    #update bobot\n",
        "    optim.step()\n",
        "    #Hitung nilai loss\n",
        "    loss_of_epoch += loss.item()\n",
        "\n",
        "    if (batch_idx+1) % print_every == 0:\n",
        "      print(\"Batch {:} / {:}\".format(batch_idx+1,len(train_loader)),\"\\nLoss:\", round(loss.item(),1),\"\\n\")\n",
        "\n",
        "  loss_of_epoch /= len(train_loader)\n",
        "  train_losses.append(loss_of_epoch)\n",
        "\n",
        "  ##########Evaluation##################\n",
        "\n",
        "  #evaluation mode\n",
        "  model.eval()\n",
        "\n",
        "  print(\"############Evaluate############\")\n",
        "\n",
        "  loss_of_epoch = 0\n",
        "\n",
        "  for batch_idx,batch in enumerate(val_loader):\n",
        "\n",
        "    with torch.no_grad():\n",
        "\n",
        "      input_ids = batch['input_ids'].to(device)\n",
        "      attention_mask = batch['attention_mask'].to(device)\n",
        "      start_positions = batch['start_positions'].to(device)\n",
        "      end_positions = batch['end_positions'].to(device)\n",
        "\n",
        "      outputs = model(input_ids, attention_mask=attention_mask, start_positions=start_positions, end_positions=end_positions)\n",
        "      loss = outputs[0]\n",
        "      #Hitung nilai loss\n",
        "      loss_of_epoch += loss.item()\n",
        "\n",
        "    if (batch_idx+1) % print_every == 0:\n",
        "       print(\"Batch {:} / {:}\".format(batch_idx+1,len(val_loader)),\"\\nLoss:\", round(loss.item(),1),\"\\n\")\n",
        "\n",
        "  loss_of_epoch /= len(val_loader)\n",
        "  val_losses.append(loss_of_epoch)\n",
        "\n",
        "  #Print hasil tiap epoch\n",
        "  print(\"\\n-------Epoch \", epoch+1,\n",
        "        \"-------\"\n",
        "        \"\\nTraining Loss:\", train_losses[-1],\n",
        "        \"\\nValidation Loss:\", val_losses[-1],\n",
        "        \"\\nTime: \",(time.time() - epoch_time),\n",
        "        \"\\n-----------------------\",\n",
        "        \"\\n\\n\")\n",
        "\n",
        "print(\"Total training and evaluation time: \", (time.time() - whole_train_eval_time))"
      ]
    },
    {
      "cell_type": "code",
      "execution_count": null,
      "metadata": {
        "id": "79QCWhM8SEoL"
      },
      "outputs": [],
      "source": [
        "#Save model\n",
        "\n",
        "torch.save(model,\"/content/drive/MyDrive/Colab Notebooks/BERT/Model_Terjemahan_Arbain_v.3/Panjang_v.3_e(5),l(0,00001),b(8)\")"
      ]
    },
    {
      "cell_type": "markdown",
      "metadata": {
        "id": "3UMqvbMFbtyo"
      },
      "source": [
        "10. Plot Train & Val Loss"
      ]
    },
    {
      "cell_type": "code",
      "execution_count": null,
      "metadata": {
        "id": "D1IZR6Wsb0SZ",
        "colab": {
          "base_uri": "https://localhost:8080/"
        },
        "outputId": "eecc03bc-cfe5-4841-fba2-0f74a924068e"
      },
      "outputs": [
        {
          "output_type": "display_data",
          "data": {
            "text/plain": [
              "<Figure size 1080x720 with 1 Axes>"
            ],
            "image/png": "[encoded data removed]"
          },
          "metadata": {
            "needs_background": "light"
          }
        }
      ],
      "source": [
        "import matplotlib.pyplot as plt\n",
        "\n",
        "fig,ax = plt.subplots(1,1,figsize=(15,10))\n",
        "\n",
        "ax.set_title(\"Train and Validation Losses\",size=20)\n",
        "ax.set_ylabel('Loss', fontsize = 20)\n",
        "ax.set_xlabel('Epochs', fontsize = 25)\n",
        "_=ax.plot(train_losses)\n",
        "_=ax.plot(val_losses)\n",
        "_=ax.legend(('Train','Val'),loc='upper right')"
      ]
    }
  ],
  "metadata": {
    "colab": {
      "provenance": []
    },
    "gpuClass": "standard",
    "kernelspec": {
      "display_name": "Python 3",
      "name": "python3"
    },
    "language_info": {
      "name": "python"
    }
  },
  "nbformat": 4,
  "nbformat_minor": 0
}